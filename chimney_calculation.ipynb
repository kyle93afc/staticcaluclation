{
 "cells": [
  {
   "cell_type": "markdown",
   "source": "   ]\n  },\n  {\n   \"cell_type\": \"markdown\",\n   \"metadata\": {},\n   \"source\": [\n    \"## 3. Wind Load Calculations\\n\",\n    \"\\n\",\n    \"### 3.1 Basic Wind Velocity (BS EN 1991-1-4)\"\n   ]\n  },\n  {\n   \"cell_type\": \"code\",\n   \"execution_count\": null,\n   \"metadata\": {},\n   \"outputs\": [],\n   \"source\": [\n    \"# Altitude factor calculation\\n\",\n    \"def calculate_altitude_factor(altitude):\\n\",\n    \"    \\\"\\\"\\\"Calculate altitude factor according to BS EN 1991-1-4\\\"\\\"\\\"\\n\",\n    \"    if altitude <= 10:\\n\",\n    \"        c_alt = 1 + 0.001 * altitude\\n\",\n    \"    else:\\n\",\n    \"        c_alt = 1 + 0.001 * altitude * (10/altitude)**0.2\\n\",\n    \"    return c_alt\\n\",\n    \"\\n\",\n    \"# Calculate altitude factor\\n\",\n    \"c_alt = calculate_altitude_factor(site_altitude)\\n\",\n    \"\\n\",\n    \"# Basic wind velocity\\n\",\n    \"vb_0 = vb_map * c_alt  # 10-minute mean basic wind velocity [m/s]\\n\",\n    \"\\n\",\n    \"# Basic velocity pressure\\n\",\n    \"qb = 0.5 * air_density * vb_0**2 / 1000  # [kN/m2]\\n\",\n    \"\\n\",\n    \"print(f\\\"Basic Wind Parameters:\\\")\\n\",\n    \"print(f\\\"Altitude factor: {c_alt:.3f}\\\")\\n\",\n    \"print(f\\\"Basic wind velocity: {vb_0:.2f} m/s\\\")\\n\",\n    \"print(f\\\"Basic velocity pressure: {qb:.3f} kN/m²\\\")\"\n   ]\n  },\n  {\n   \"cell_type\": \"markdown\",\n   \"metadata\": {},\n   \"source\": [\n    \"### 3.2 Exposure Factor & Peak Velocity Pressure\"\n   ]\n  },\n  {\n   \"cell_type\": \"code\",\n   \"execution_count\": null,\n   \"metadata\": {},\n   \"outputs\": [],\n   \"source\": [\n    \"# Reference height (zs)\\n\",\n    \"zs = 0.6 * H + h0  # Reference height [m]\\n\",\n    \"\\n\",\n    \"# Exposure factor at reference height (simplified for terrain category II)\\n\",\n    \"# This is a simplified calculation - full implementation would need terrain category\\n\",\n    \"Ce_zs = 2.36  # From the original calculation\\n\",\n    \"\\n\",\n    \"# Peak velocity pressure at reference height\\n\",\n    \"qp_zs = Ce_zs * qb  # [kN/m2]\\n\",\n    \"\\n\",\n    \"# Peak wind velocity at reference height\\n\",\n    \"V_zs = sqrt(2 * qp_zs * 1000 / air_density)  # [m/s]\\n\",\n    \"\\n\",\n    \"print(f\\\"Reference Height Analysis:\\\")\\n\",\n    \"print(f\\\"Reference height zs: {zs:.1f} m\\\")\\n\",\n    \"print(f\\\"Exposure factor at zs: {Ce_zs:.2f}\\\")\\n\",\n    \"print(f\\\"Peak velocity pressure: {qp_zs:.3f} kN/m²\\\")\\n\",\n    \"print(f\\\"Peak wind velocity: {V_zs:.1f} m/s\\\")\"\n   ]\n  },\n  {\n   \"cell_type\": \"markdown\",\n   \"metadata\": {},\n   \"source\": [\n    \"### 3.3 Force Coefficient & Structural Factor\"\n   ]\n  },\n  {\n   \"cell_type\": \"code\",\n   \"execution_count\": null,\n   \"metadata\": {},\n   \"outputs\": [],\n   \"source\": [\n    \"# Reynolds number at reference height\\n\",\n    \"Re_zs = V_zs * (D/1000) / kinematic_viscosity\\n\",\n    \"\\n\",\n    \"# Force coefficient Cf0 (from Figure 7.28 EN 1991-1-4)\\n\",\n    \"Cf0 = 0.796  # From original calculation\\n\",\n    \"\\n\",\n    \"# End-effect factor\\n\",\n    \"slenderness = H / (D/1000)  # Slenderness ratio\\n\",\n    \"phi = 1.0  # Solidity ratio\\n\",\n    \"\\n\",\n    \"if slenderness < 70:\\n\",\n    \"    psi_lambda = 0.6977  # From original calculation\\n\",\n    \"else:\\n\",\n    \"    psi_lambda = 1.0\\n\",\n    \"\\n\",\n    \"# Pressure coefficient at top\\n\",\n    \"Cf = Cf0 * psi_lambda\\n\",\n    \"\\n\",\n    \"# Structural factor CsCd (from Annex B)\\n\",\n    \"CsCd = 0.965  # From original calculation - this requires complex calculation\\n\",\n    \"\\n\",\n    \"print(f\\\"Force Coefficients:\\\")\\n\",\n    \"print(f\\\"Reynolds number: {Re_zs:.0f}\\\")\\n\",\n    \"print(f\\\"Slenderness ratio: {slenderness:.1f}\\\")\\n\",\n    \"print(f\\\"Force coefficient Cf0: {Cf0:.3f}\\\")\\n\",\n    \"print(f\\\"End-effect factor: {psi_lambda:.4f}\\\")\\n\",\n    \"print(f\\\"Pressure coefficient: {Cf:.3f}\\\")\\n\",\n    \"print(f\\\"Structural factor: {CsCd:.3f}\\\")\"\n   ]\n  },\n  {\n   \"cell_type\": \"markdown\",\n   \"metadata\": {},\n   \"source\": [\n    \"### 3.4 Wind Load Distribution\"\n   ]\n  },\n  {\n   \"cell_type\": \"code\",\n   \"execution_count\": null,\n   \"metadata\": {},\n   \"outputs\": [],\n   \"source\": [\n    \"# Create height segments based on original calculation\\n\",\n    \"height_segments = [\\n\",\n    \"    (0, 150), (150, 350), (350, 500), (500, 1200), (1200, 1800),\\n\",\n    \"    (1800, 2000), (2000, 3000), (3000, 3600), (3600, 3850), (3850, 4000),\\n\",\n    \"    (4000, 4800), (4800, 5000), (5000, 5400), (5400, 5500), (5500, 5800),\\n\",\n    \"    (5800, 6000), (6000, 6500), (6500, 6800), (6800, 7000), (7000, 7200),\\n\",\n    \"    (7200, 7600), (7600, 8000), (8000, 8500), (8500, 9000), (9000, 9500),\\n\",\n    \"    (9500, 10000), (10000, 11000), (11000, 12000), (12000, 13500), (13500, 13500)\\n\",\n    \"]\\n\",\n    \"\\n\",\n    \"def calculate_wind_load_distribution():\\n\",\n    \"    \\\"\\\"\\\"Calculate wind load distribution along chimney height\\\"\\\"\\\"\\n\",\n    \"    \\n\",\n    \"    results = []\\n\",\n    \"    \\n\",\n    \"    for i, (h_from, h_to) in enumerate(height_segments):\\n\",\n    \"        # Height for calculation (mid-height or reference height)\\n\",\n    \"        h_calc = (h_from + h_to) / 2 / 1000  # Convert to meters\\n\",\n    \"        \\n\",\n    \"        # Simplified exposure factor calculation (height-dependent)\\n\",\n    \"        # This is simplified - actual calculation is more complex\\n\",\n    \"        if h_calc < 3.0:\\n\",\n    \"            Ce_h = 2.36\\n\",\n    \"        else:\\n\",\n    \"            Ce_h = 2.36 * (h_calc / 8.1)**0.16  # Simplified power law\\n\",\n    \"        \\n\",\n    \"        # Peak velocity pressure at height\\n\",\n    \"        qp_h = Ce_h * qb\\n\",\n    \"        \\n\",\n    \"        # Structural factor varies with height (simplified)\\n\",\n    \"        CsCd_h = CsCd\\n\",\n    \"        \\n\",\n    \"        # Force coefficient (simplified - constant)\\n\",\n    \"        Cf_h = Cf\\n\",\n    \"        \\n\",\n    \"        # Wind load per unit length\\n\",\n    \"        fw_total = gamma_Q * CsCd_h * qp_h * (D/1000) * Cf_h  # [kN/m]\\n\",\n    \"        \\n\",\n    \"        results.append({\\n\",\n    \"            'Segment': i+1,\\n\",\n    \"            'From [mm]': h_from,\\n\",\n    \"            'To [mm]': h_to,\\n\",\n    \"            'Ce': Ce_h,\\n\",\n    \"            'qp [kN/m2]': qp_h,\\n\",\n    \"            'Cf': Cf_h,\\n\",\n    \"            'fw [kN/m]': fw_total\\n\",\n    \"        })\\n\",\n    \"    \\n\",\n    \"    return pd.DataFrame(results)\\n\",\n    \"\\n\",\n    \"# Calculate wind load distribution\\n\",\n    \"wind_loads = calculate_wind_load_distribution()\\n\",\n    \"\\n\",\n    \"# Display first few rows\\n\",\n    \"print(\\\"Wind Load Distribution (first 10 segments):\\\")\\n\",\n    \"display(wind_loads.head(10))\\n\",\n    \"\\n\",\n    \"print(f\\\"\\\\nMaximum wind load: {wind_loads['fw [kN/m]'].max():.3f} kN/m\\\")\\n\",\n    \"print(f\\\"Average wind load: {wind_loads['fw [kN/m]'].mean():.3f} kN/m\\\")\"\n   ]\n  },\n  {\n   \"cell_type\": \"markdown\",\n   \"metadata\": {},\n   \"source\": [\n    \"### 3.5 Wind Load Visualization\"\n   ]\n  },\n  {\n   \"cell_type\": \"code\",\n   \"execution_count\": null,\n   \"metadata\": {},\n   \"outputs\": [],\n   \"source\": [\n    \"# Create visualization of wind load distribution\\n\",\n    \"fig, (ax1, ax2) = plt.subplots(1, 2, figsize=(12, 8))\\n\",\n    \"\\n\",\n    \"# Height vs wind load\\n\",\n    \"heights = [(row['From [mm]'] + row['To [mm]']) / 2000 for _, row in wind_loads.iterrows()]\\n\",\n    \"ax1.plot(wind_loads['fw [kN/m]'], heights, 'b-o', linewidth=2, markersize=4)\\n\",\n    \"ax1.set_xlabel('Wind Load [kN/m]')\\n\",\n    \"ax1.set_ylabel('Height [m]')\\n\",\n    \"ax1.set_title('Wind Load Distribution')\\n\",\n    \"ax1.grid(True, alpha=0.3)\\n\",\n    \"\\n\",\n    \"# Peak velocity pressure distribution\\n\",\n    \"ax2.plot(wind_loads['qp [kN/m2]'], heights, 'r-o', linewidth=2, markersize=4)\\n\",\n    \"ax2.set_xlabel('Peak Velocity Pressure [kN/m²]')\\n\",\n    \"ax2.set_ylabel('Height [m]')\\n\",\n    \"ax2.set_title('Velocity Pressure Distribution')\\n\",\n    \"ax2.grid(True, alpha=0.3)\\n\",\n    \"\\n\",\n    \"plt.tight_layout()\\n\",\n    \"plt.show()\"\n   ]\n  },\n  {\n   \"cell_type\": \"markdown\",\n   \"metadata\": {},\n   \"source\": [\n    \"## 4. Foundation Loads\\n\",\n    \"\\n\",\n    \"### 4.1 Load Integration\"\n   ]\n  },\n  {\n   \"cell_type\": \"code\",\n   \"execution_count\": null,\n   \"metadata\": {},\n   \"outputs\": [],\n   \"source\": [\n    \"def calculate_foundation_loads():\\n\",\n    \"    \\\"\\\"\\\"Calculate foundation reactions from wind and dead loads\\\"\\\"\\\"\\n\",\n    \"    \\n\",\n    \"    # Dead load (characteristic values)\\n\",\n    \"    N_dead = total_dead_load_kN  # [kN]\\n\",\n    \"    \\n\",\n    \"    # Initialize wind load integration\\n\",\n    \"    total_wind_force = 0  # [kN]\\n\",\n    \"    total_wind_moment = 0  # [kNm]\\n\",\n    \"    \\n\",\n    \"    # Integrate wind loads\\n\",\n    \"    for _, row in wind_loads.iterrows():\\n\",\n    \"        h_from = row['From [mm]'] / 1000  # [m]\\n\",\n    \"        h_to = row['To [mm]'] / 1000      # [m]\\n\",\n    \"        segment_length = h_to - h_from    # [m]\\n\",\n    \"        h_center = (h_from + h_to) / 2    # [m]\\n\",\n    \"        fw = row['fw [kN/m]']             # [kN/m]\\n\",\n    \"        \\n\",\n    \"        # Segment wind force\\n\",\n    \"        segment_force = fw * segment_length  # [kN]\\n\",\n    \"        total_wind_force += segment_force\\n\",\n    \"        \\n\",\n    \"        # Moment about base\\n\",\n    \"        total_wind_moment += segment_force * h_center  # [kNm]\\n\",\n    \"    \\n\",\n    \"    # Foundation reactions (characteristic values)\\n\",\n    \"    Q_base = total_wind_force     # Lateral force at base [kN]\\n\",\n    \"    M_base = total_wind_moment    # Bending moment at base [kNm]\\n\",\n    \"    N_base = N_dead               # Axial force [kN]\\n\",\n    \"    \\n\",\n    \"    return {\\n\",\n    \"        'N_dead': N_dead,\\n\",\n    \"        'Q_base': Q_base,\\n\",\n    \"        'M_base': M_base,\\n\",\n    \"        'N_base': N_base\\n\",\n    \"    }\\n\",\n    \"\\n\",\n    \"# Calculate foundation loads\\n\",\n    \"foundation_loads = calculate_foundation_loads()\\n\",\n    \"\\n\",\n    \"print(f\\\"Foundation Loads (Characteristic Values):\\\")\\n\",\n    \"print(f\\\"Dead load: {foundation_loads['N_dead']:.1f} kN\\\")\\n\",\n    \"print(f\\\"Lateral force at base: {foundation_loads['Q_base']:.1f} kN\\\")\\n\",\n    \"print(f\\\"Bending moment at base: {foundation_loads['M_base']:.1f} kNm\\\")\\n\",\n    \"print(f\\\"Total axial force: {foundation_loads['N_base']:.1f} kN\\\")\"\n   ]\n  },\n  {\n   \"cell_type\": \"markdown\",\n   \"metadata\": {},\n   \"source\": [\n    \"## 5. Shell Stress Analysis\\n\",\n    \"\\n\",\n    \"### 5.1 Internal Forces\"\n   ]\n  },\n  {\n   \"cell_type\": \"code\",\n   \"execution_count\": null,\n   \"metadata\": {},\n   \"outputs\": [],\n   \"source\": [\n    \"def calculate_internal_forces():\\n\",\n    \"    \\\"\\\"\\\"Calculate internal forces along chimney height\\\"\\\"\\\"\\n\",\n    \"    \\n\",\n    \"    results = []\\n\",\n    \"    \\n\",\n    \"    for i, (h_from, h_to) in enumerate(height_segments):\\n\",\n    \"        h_from_m = h_from / 1000  # [m]\\n\",\n    \"        h_to_m = h_to / 1000      # [m]\\n\",\n    \"        h_calc = (h_from_m + h_to_m) / 2  # [m]\\n\",\n    \"        \\n\",\n    \"        # Calculate loads above this section\\n\",\n    \"        N_z = 0  # Normal force [kN]\\n\",\n    \"        Q_z = 0  # Shear force [kN]\\n\",\n    \"        M_z = 0  # Bending moment [kNm]\\n\",\n    \"        \\n\",\n    \"        # Integrate loads from top down\\n\",\n    \"        for j in range(i, len(height_segments)):\\n\",\n    \"            h_seg_from = height_segments[j][0] / 1000\\n\",\n    \"            h_seg_to = height_segments[j][1] / 1000\\n\",\n    \"            \\n\",\n    \"            if h_seg_to > h_calc:\\n\",\n    \"                seg_length = h_seg_to - max(h_seg_from, h_calc)\\n\",\n    \"                h_seg_center = (max(h_seg_from, h_calc) + h_seg_to) / 2\\n\",\n    \"                \\n\",\n    \"                # Dead load in segment\\n\",\n    \"                seg_dead_load = total_dead_load_kN * seg_length / H  # [kN]\\n\",\n    \"                N_z += seg_dead_load * gamma_Gk\\n\",\n    \"                \\n\",\n    \"                # Wind load in segment\\n\",\n    \"                fw_seg = wind_loads.iloc[j]['fw [kN/m]']  # Already includes safety factor\\n\",\n    \"                seg_wind_force = fw_seg * seg_length\\n\",\n    \"                Q_z += seg_wind_force\\n\",\n    \"                M_z += seg_wind_force * (h_seg_center - h_calc)\\n\",\n    \"        \\n\",\n    \"        # Calculate stresses\\n\",\n    \"        A_t = section['A_mm2']  # [mm2]\\n\",\n    \"        W_t = section['W_mm3']  # [mm3]\\n\",\n    \"        \\n\",\n    \"        # Second-order effects (simplified)\\n\",\n    \"        e2_over_8 = 0.0011  # From original calculation\\n\",\n    \"        M_second_order = M_z * (1 + e2_over_8)\\n\",\n    \"        \\n\",\n    \"        # Normal and bending stress\\n\",\n    \"        sigma_N = N_z / A_t * 1000  # [N/mm2]\\n\",\n    \"        sigma_M = M_second_order / W_t * 1e6  # [N/mm2]\\n\",\n    \"        sigma_total = sigma_N + sigma_M  # [N/mm2]\\n\",\n    \"        \\n\",\n    \"        # Shear stress\\n\",\n    \"        tau = Q_z / (2 * pi * section['rm'] * t_corroded) * 1000  # [N/mm2]\\n\",\n    \"        \\n\",\n    \"        results.append({\\n\",\n    \"            'Section': i+1,\\n\",\n    \"            'Height [m]': h_calc,\\n\",\n    \"            'N [kN]': N_z,\\n\",\n    \"            'Q [kN]': Q_z,\\n\",\n    \"            'M [kNm]': M_z,\\n\",\n    \"            'M\\\" [kNm]': M_second_order,\\n\",\n    \"            'σ [N/mm2]': sigma_total,\\n\",\n    \"            'τ [N/mm2]': tau\\n\",\n    \"        })\\n\",\n    \"    \\n\",\n    \"    return pd.DataFrame(results)\\n\",\n    \"\\n\",\n    \"# Calculate internal forces and stresses\\n\",\n    \"stress_analysis = calculate_internal_forces()\\n\",\n    \"\\n\",\n    \"print(\\\"Internal Forces and Stresses (first 10 sections):\\\")\\n\",\n    \"display(stress_analysis.head(10))\\n\",\n    \"\\n\",\n    \"print(f\\\"\\\\nMaximum stress: {stress_analysis['σ [N/mm2]'].max():.1f} N/mm²\\\")\\n\",\n    \"print(f\\\"Maximum shear: {stress_analysis['τ [N/mm2]'].max():.2f} N/mm²\\\")\"\n   ]\n  }\n ],",
   "metadata": {}
  },
  {
   "cell_type": "markdown",
   "metadata": {},
   "source": [
    "# Static Calculation - Steel Chimney\n",
    "\n",
    "**Project:** Northern Combustion Systems  \n",
    "**Order No.:** 441  \n",
    "**Revision:** 2  \n",
    "\n",
    "This notebook implements the structural calculations for a steel chimney according to European standards (EN 1993-3-2, EN 1991-1-4, etc.).\n",
    "\n",
    "## Table of Contents\n",
    "1. [Input Parameters](#1-input-parameters)\n",
    "2. [Safety Factors & Material Properties](#2-safety-factors--material-properties)\n",
    "3. [Wind Load Calculations](#3-wind-load-calculations)\n",
    "4. [Foundation Loads](#4-foundation-loads)\n",
    "5. [Shell Stress Analysis](#5-shell-stress-analysis)\n",
    "6. [Natural Frequency](#6-natural-frequency)\n",
    "7. [Buckling Verification](#7-buckling-verification)\n",
    "8. [Foundation Design](#8-foundation-design)\n",
    "9. [Results Summary](#9-results-summary)"
   ]
  },
  {
   "cell_type": "code",
   "execution_count": null,
   "metadata": {},
   "outputs": [],
   "source": [
    "import numpy as np\n",
    "import pandas as pd\n",
    "import matplotlib.pyplot as plt\n",
    "from math import pi, sqrt, log, sin, cos, tan\n",
    "from IPython.display import display, HTML\n",
    "import warnings\n",
    "warnings.filterwarnings('ignore')\n",
    "\n",
    "# Configure display options\n",
    "pd.set_option('display.precision', 3)\n",
    "plt.style.use('seaborn-v0_8')"
   ]
  },
  {
   "cell_type": "markdown",
   "metadata": {},
   "source": [
    "## 1. Input Parameters\n",
    "\n",
    "### 1.1 Main Dimensions"
   ]
  },
  {
   "cell_type": "code",
   "execution_count": null,
   "metadata": {},
   "outputs": [],
   "source": [
    "# Main Dimensions\n",
    "H = 13.50          # Chimney height [m]\n",
    "D = 1422           # Outside shell diameter [mm]\n",
    "h0 = 0.00          # Foundation level above ground [m]\n",
    "Htot = H + h0      # Total height [m]\n",
    "\n",
    "print(f\"Main Dimensions:\")\n",
    "print(f\"Chimney height: {H} m\")\n",
    "print(f\"Outside diameter: {D} mm\")\n",
    "print(f\"Foundation level: {h0} m\")\n",
    "print(f\"Total height: {Htot} m\")"
   ]
  },
  {
   "cell_type": "markdown",
   "metadata": {},
   "source": [
    "### 1.2 Materials & Section Properties"
   ]
  },
  {
   "cell_type": "code",
   "execution_count": null,
   "metadata": {},
   "outputs": [],
   "source": [
    "# Materials\n",
    "steel_grade = \"S235JR\"      # Structural steel grade\n",
    "anchor_grade = \"8.8\"        # Anchor bolt grade\n",
    "\n",
    "# Shell thickness (including corrosion allowance)\n",
    "t_shell = 8.0              # Shell thickness [mm]\n",
    "corrosion_allowance = 0.35 # Internal corrosion allowance [mm]\n",
    "t_corroded = t_shell - corrosion_allowance  # Corroded thickness [mm]\n",
    "\n",
    "# Flue specifications\n",
    "flue_internal_dia = 1100    # Internal diameter [mm]\n",
    "flue_thickness = 2.0        # Flue thickness [mm]\n",
    "flue_steel = \"1.4301\"       # Flue steel grade\n",
    "insulation_thickness = 50   # Insulation thickness [mm]\n",
    "\n",
    "print(f\"Material Properties:\")\n",
    "print(f\"Structural steel: {steel_grade}\")\n",
    "print(f\"Shell thickness: {t_shell} mm (corroded: {t_corroded} mm)\")\n",
    "print(f\"Flue: {flue_internal_dia} mm dia, {flue_thickness} mm thick, {flue_steel}\")\n",
    "print(f\"Insulation: {insulation_thickness} mm\")"
   ]
  },
  {
   "cell_type": "markdown",
   "metadata": {},
   "source": [
    "### 1.3 Site Conditions & Wind Data"
   ]
  },
  {
   "cell_type": "code",
   "execution_count": null,
   "metadata": {},
   "outputs": [],
   "source": [
    "# Site data\n",
    "site_altitude = 200         # Site altitude above sea level [m]\n",
    "distance_to_sea = 40        # Distance to sea [km]\n",
    "surface_roughness = 0.0002  # Surface roughness [m]\n",
    "axis_distance = 999.0       # Distance to nearest circular object [m]\n",
    "\n",
    "# Wind parameters (BS EN 1991-1-4)\n",
    "vb_map = 25.50             # Basic wind velocity from map [m/s]\n",
    "air_density = 1.226        # Air density [kg/m3]\n",
    "kinematic_viscosity = 1.50e-5  # Kinematic viscosity [m2/s]\n",
    "\n",
    "# Design parameters\n",
    "design_lifetime = 25        # Design lifetime [years]\n",
    "design_temperature = 50     # Design temperature for shell [°C]\n",
    "\n",
    "print(f\"Site Conditions:\")\n",
    "print(f\"Altitude: {site_altitude} m\")\n",
    "print(f\"Distance to sea: {distance_to_sea} km\")\n",
    "print(f\"Basic wind velocity: {vb_map} m/s\")\n",
    "print(f\"Design temperature: {design_temperature} °C\")"
   ]
  },
  {
   "cell_type": "markdown",
   "metadata": {},
   "source": [
    "### 1.4 Foundation & Anchor Configuration"
   ]
  },
  {
   "cell_type": "code",
   "execution_count": null,
   "metadata": {},
   "outputs": [],
   "source": [
    "# Foundation anchoring\n",
    "n_bolts = 20              # Number of anchor bolts\n",
    "bolt_size = \"M20\"         # Bolt size\n",
    "bolt_circle_dia = 1602    # Bolt circle diameter [mm]\n",
    "bolt_cross_section = 245  # Bolt cross-sectional area [mm2]\n",
    "baseplate_thickness = 15  # Base plate thickness [mm]\n",
    "\n",
    "# Gusset specifications\n",
    "gusset_thickness = 8      # Gusset thickness [mm]\n",
    "gusset_height = 400       # Gusset height [mm]\n",
    "\n",
    "print(f\"Foundation Configuration:\")\n",
    "print(f\"Anchor bolts: {n_bolts} x {bolt_size}\")\n",
    "print(f\"Bolt circle diameter: {bolt_circle_dia} mm\")\n",
    "print(f\"Base plate thickness: {baseplate_thickness} mm\")\n",
    "print(f\"Gusset: {gusset_thickness} mm thick, {gusset_height} mm high\")"
   ]
  },
  {
   "cell_type": "markdown",
   "metadata": {},
   "source": [
    "## 2. Safety Factors & Material Properties\n",
    "\n",
    "### 2.1 Reliability Class & Safety Factors"
   ]
  },
  {
   "cell_type": "code",
   "execution_count": null,
   "metadata": {},
   "outputs": [],
   "source": [
    "# Reliability class (EN 1993-3-2)\n",
    "reliability_class = 2       # Class 2: Normal industrial chimneys\n",
    "execution_class = \"EXC3\"    # Execution class\n",
    "\n",
    "# Partial safety factors (EN 1993-3-2)\n",
    "gamma_Q = 1.4              # Safety factor for wind load\n",
    "gamma_Gk = 1.1             # Safety factor for dead load\n",
    "gamma_F_f = 1.0            # Safety factor for vortex shedding loads\n",
    "gamma_m = 1.0              # Safety factor for materials\n",
    "gamma_M1 = 1.1             # Safety factor for buckling\n",
    "gamma_m_b = 1.25           # Safety factor for bolts\n",
    "gamma_mf = 1.15            # Safety factor for fatigue\n",
    "\n",
    "print(f\"Safety System:\")\n",
    "print(f\"Reliability class: {reliability_class}\")\n",
    "print(f\"Execution class: {execution_class}\")\n",
    "print(f\"Wind load safety factor: {gamma_Q}\")\n",
    "print(f\"Dead load safety factor: {gamma_Gk}\")\n",
    "print(f\"Buckling safety factor: {gamma_M1}\")"
   ]
  },
  {
   "cell_type": "markdown",
   "metadata": {},
   "source": [
    "### 2.2 Material Properties"
   ]
  },
  {
   "cell_type": "code",
   "execution_count": null,
   "metadata": {},
   "outputs": [],
   "source": [
    "# Material properties at design temperature\n",
    "Ft = 1.0000               # Reducing factor at design temperature\n",
    "E = 210000                # Modulus of elasticity [N/mm2]\n",
    "nu = 0.3                  # Poisson's ratio\n",
    "\n",
    "# Steel S235JR properties\n",
    "fyk = 235                 # Characteristic yield strength [N/mm2]\n",
    "fyd = fyk / gamma_m       # Design yield strength [N/mm2]\n",
    "\n",
    "# Thickness-dependent yield strength\n",
    "if t_shell <= 16:\n",
    "    fyd_thick = 355.0 / gamma_m\n",
    "elif t_shell <= 40:\n",
    "    fyd_thick = 345.0 / gamma_m\n",
    "else:\n",
    "    fyd_thick = 335.0 / gamma_m\n",
    "\n",
    "# Weld strengths\n",
    "fyd_butt = fyd            # Butt weld strength = base material\n",
    "fyd_fillet = 207.8        # Fillet weld strength [N/mm2]\n",
    "\n",
    "# Anchor bolt properties (8.8 grade)\n",
    "fyd_anchor = 576          # Anchor bolt design strength [N/mm2]\n",
    "\n",
    "print(f\"Material Strengths:\")\n",
    "print(f\"Steel yield strength: {fyd:.1f} N/mm2\")\n",
    "print(f\"Fillet weld strength: {fyd_fillet:.1f} N/mm2\")\n",
    "print(f\"Anchor bolt strength: {fyd_anchor} N/mm2\")\n",
    "print(f\"Modulus of elasticity: {E} N/mm2\")"
   ]
  },
  {
   "cell_type": "markdown",
   "metadata": {},
   "source": [
    "### 2.3 Cross-Section Properties"
   ]
  },
  {
   "cell_type": "code",
   "execution_count": null,
   "metadata": {},
   "outputs": [],
   "source": [
    "# Calculate section properties\n",
    "def calculate_section_properties(diameter, thickness):\n",
    "    \"\"\"Calculate cross-sectional properties for circular hollow section\"\"\"\n",
    "    \n",
    "    # Areas\n",
    "    A = pi * diameter * thickness / 1000  # Cross-sectional area [mm2 -> m2 for some calcs]\n",
    "    A_mm2 = pi * diameter * thickness     # Cross-sectional area [mm2]\n",
    "    \n",
    "    # Mean diameter and radius\n",
    "    Dm = diameter - thickness            # Mean diameter [mm]\n",
    "    rm = Dm / 2                          # Mean radius [mm]\n",
    "    \n",
    "    # Section modulus\n",
    "    W = pi * Dm**2 * thickness / 4 / 1000  # Section modulus [mm3 -> m3]\n",
    "    W_mm3 = pi * Dm**2 * thickness / 4     # Section modulus [mm3]\n",
    "    \n",
    "    # Second moment of area\n",
    "    I = pi * Dm**3 * thickness / 8         # Second moment of area [mm4]\n",
    "    \n",
    "    return {\n",
    "        'A_mm2': A_mm2,\n",
    "        'Dm': Dm,\n",
    "        'rm': rm,\n",
    "        'W_mm3': W_mm3,\n",
    "        'I_mm4': I\n",
    "    }\n",
    "\n",
    "# Calculate for corroded section\n",
    "section = calculate_section_properties(D, t_corroded)\n",
    "\n",
    "print(f\"Cross-Section Properties (corroded):\")\n",
    "print(f\"Cross-sectional area: {section['A_mm2']:.0f} mm²\")\n",
    "print(f\"Mean diameter: {section['Dm']:.1f} mm\")\n",
    "print(f\"Section modulus: {section['W_mm3']:.0f} mm³\")\n",
    "print(f\"Second moment of area: {section['I_mm4']:.0f} mm⁴\")"
   ]
  },
  {
   "cell_type": "markdown",
   "metadata": {},
   "source": [
    "### 2.4 Weight Calculations"
   ]
  },
  {
   "cell_type": "code",
   "execution_count": null,
   "metadata": {},
   "outputs": [],
   "source": [
    "# Material densities\n",
    "rho_steel = 7850          # Steel density [kg/m3]\n",
    "rho_insulation = 100      # Insulation density [kg/m3] (typical)\n",
    "\n",
    "# Calculate shell weight\n",
    "shell_volume = pi * D * t_shell * H / 1e9  # Shell volume [m3]\n",
    "shell_weight = shell_volume * rho_steel    # Shell weight [kg]\n",
    "\n",
    "# Calculate flue weight (approximate)\n",
    "flue_volume = pi * flue_internal_dia * flue_thickness * H / 1e9  # Flue volume [m3]\n",
    "flue_weight = flue_volume * rho_steel * 0.9  # Flue weight [kg] (factor for stainless steel)\n",
    "\n",
    "# Calculate insulation weight\n",
    "insulation_volume = pi * ((flue_internal_dia + 2*flue_thickness + 2*insulation_thickness)**2 - \n",
    "                         (flue_internal_dia + 2*flue_thickness)**2) * H / (4 * 1e9)\n",
    "insulation_weight = insulation_volume * rho_insulation\n",
    "\n",
    "# Total dead load\n",
    "total_dead_load = shell_weight + flue_weight + insulation_weight  # [kg]\n",
    "total_dead_load_kN = total_dead_load * 9.81 / 1000              # [kN]\n",
    "\n",
    "print(f\"Weight Summary:\")\n",
    "print(f\"Shell weight: {shell_weight:.0f} kg\")\n",
    "print(f\"Flue weight: {flue_weight:.0f} kg\")\n",
    "print(f\"Insulation weight: {insulation_weight:.0f} kg\")\n",
    "print(f\"Total dead load: {total_dead_load:.0f} kg ({total_dead_load_kN:.1f} kN)\")"
   ]
  },
  {
   "cell_type": "markdown",
   "metadata": {},
   "source": [
    "Now I'll mark the first task as completed and move to the next section:"
   ]
  }
 ],
 "metadata": {
  "kernelspec": {
   "display_name": "Python 3",
   "language": "python",
   "name": "python3"
  },
  "language_info": {
   "codemirror_mode": {
    "name": "ipython",
    "version": 3
   },
   "file_extension": ".py",
   "mimetype": "text/x-python",
   "name": "python",
   "nbconvert_exporter": "python",
   "pygments_lexer": "ipython3",
   "version": "3.8.5"
  }
 },
 "nbformat": 4,
 "nbformat_minor": 4
}